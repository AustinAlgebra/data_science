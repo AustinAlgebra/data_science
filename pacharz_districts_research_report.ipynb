{
  "nbformat": 4,
  "nbformat_minor": 0,
  "metadata": {
    "colab": {
      "name": "pacharz_districts_research_report.ipynb",
      "provenance": [],
      "collapsed_sections": [],
      "authorship_tag": "ABX9TyOrAGwpJ5a0GIewp5ghHvU1",
      "include_colab_link": true
    },
    "kernelspec": {
      "name": "python3",
      "display_name": "Python 3"
    }
  },
  "cells": [
    {
      "cell_type": "markdown",
      "metadata": {
        "id": "view-in-github",
        "colab_type": "text"
      },
      "source": [
        "<a href=\"https://colab.research.google.com/github/AustinAlgebra/data_science/blob/master/pacharz_districts_research_report.ipynb\" target=\"_parent\"><img src=\"https://colab.research.google.com/assets/colab-badge.svg\" alt=\"Open In Colab\"/></a>"
      ]
    },
    {
      "cell_type": "markdown",
      "metadata": {
        "id": "BMC5uPGnVRxG"
      },
      "source": [
        "#1. Introduction\n",
        "It is no secret that funding differs from district to district. In 2011 the Colorado Department of Education was sued for inadequate funding of public schools. Funding is extremely important to the operations of public schools. The dataset we are using can help us understand numerically how much funding differs from district to district.\n",
        "\n",
        "The dataset contains financial data from U.S. school districts across the country from 1993 to 2016. It provides insight into where the money comes from and how funding and spending differ from district to district. \n",
        "\n",
        "For this analysis I am focused on two specific clients, Mapleton Public Schools and the Colorado Department of Education.\n"
      ]
    },
    {
      "cell_type": "markdown",
      "metadata": {
        "id": "QgWH_yNwcGqA"
      },
      "source": [
        "#2. Hypothesis\n",
        "##Client: Mapleton Public Schools\n",
        "\n",
        "###Mean Total Revenue per Enrollment:\n",
        "\n",
        "H0=The mean total revenue per enrollment from 1993 to 2016 of other Denver Metro area districts is not statistically significantly different than the mean total revenue per enrollment from 1993 to 2016 for Mapleton Public Schools.\n",
        "\n",
        "HA=The mean total revenue per enrollment from 1993 to 2016 of other Denver Metro area districts is statistically significantly different than the mean total revenue per enrollment from 1993 to 2016 for Mapleton Public Schools.\n",
        "\n",
        "###Mean Total Expense per Enrollment\n",
        "\n",
        "H0=The mean total expenses per enrollment from 1993 to 2016 of other Denver Metro area districts is not statistically significantly different than the mean total expenses per enrollment from 1993 to 2016 for Mapleton Public Schools.\n",
        "\n",
        "HA=The mean total expenses per enrollment from 1993 to 2016 of other Denver Metro area districts is statistically significantly different than the mean total expenses per enrollment from 1993 to 2016 for Mapleton Public Schools.\n",
        "\n",
        "##Client: Colorado Department of Education\n",
        "\n",
        "###Mean Total Revenue per Enrollment\n",
        "\n",
        "H0=The mean total revenue per enrollment for Colorado districts with enrollment between 41 and 6300 is not statistically significantly different from the mean total revenue per enrollment for Colorado districts with enrollment greater than or equal to 6300.\n",
        "\n",
        "HA=The mean total revenue per enrollment for Colorado districts with enrollment between 41 and 6300 is statistically significantly different from the mean total revenue per enrollment for Colorado districts with enrollment greater than or equal to 6300.\n",
        "\n",
        "###Mean Total Expense per Enrollment\n",
        "\n",
        "H0=The mean total expenses per enrollment for Colorado districts with enrollment between 41 and 6300 is not statistically significantly different from the mean total expenses per enrollment for Colorado districts with enrollment greater than or equal to 6300.\n",
        "\n",
        "HA=The mean total expenses per enrollment for Colorado districts with enrollment between 41 and 6300 is statistically significantly different from the mean total expenses per enrollment for Colorado districts with enrollment greater than or equal to 6300."
      ]
    },
    {
      "cell_type": "markdown",
      "metadata": {
        "id": "8FYQrdgiJWBS"
      },
      "source": [
        "#3. Data\n",
        "\n",
        "The dataset comes from Kaggle and can be found at [This Link](https://www.kaggle.com/noriuk/us-educational-finances). \n",
        ">You will need to download the districts.csv dataset and either upload it from your hard drive or from Google Drive. The code for both is included below.\n",
        "\n",
        "The data contains null values in enrollment data for the year 1992. The analysis depends on enrollment data, so this year will be excluded from all dataframes.\n",
        "\n",
        "For each district, that means we have 24 years of data from 1993 to 2016.\n",
        "\n",
        "When splitting the data between rural (enrollment between 41 and 6300) and nonrural (enrollment greater than or equal to 6300), there were 149 rural districts, and 27 nonrural districts."
      ]
    },
    {
      "cell_type": "code",
      "metadata": {
        "id": "lEm1fXXnHhNO"
      },
      "source": [
        "#Set up the environment\n",
        "\n",
        "%matplotlib inline\n",
        "import math\n",
        "import pandas as pd\n",
        "import numpy as np\n",
        "import matplotlib.pyplot as plt\n",
        "from scipy import stats"
      ],
      "execution_count": null,
      "outputs": []
    },
    {
      "cell_type": "code",
      "metadata": {
        "id": "oIv4EJYIcEFm",
        "colab": {
          "base_uri": "https://localhost:8080/",
          "height": 34
        },
        "outputId": "28eac7b6-4499-44fb-e6fa-10bc3b6a95c9"
      },
      "source": [
        "#This code will access file from computer:\n",
        "#from google.colab import files\n",
        "#data_to_load = files.upload()\n",
        "\n",
        "#This code will access file from Google Drive:\n",
        "from google.colab import drive\n",
        "drive.mount('/content/drive')"
      ],
      "execution_count": null,
      "outputs": [
        {
          "output_type": "stream",
          "text": [
            "Mounted at /content/drive\n"
          ],
          "name": "stdout"
        }
      ]
    },
    {
      "cell_type": "code",
      "metadata": {
        "id": "2pCL5VO6K-Jq"
      },
      "source": [
        "#This code will access file from computer:\n",
        "#districts = pd.read_csv('districts.csv')\n",
        "#districts.head()\n",
        "\n",
        "#This code will access file from Google Drive:\n",
        "path = \"/content/drive/My Drive/districts.csv\"\n",
        "districts = pd.read_csv(path)"
      ],
      "execution_count": null,
      "outputs": []
    },
    {
      "cell_type": "markdown",
      "metadata": {
        "id": "hx3o1u-LOuJM"
      },
      "source": [
        "#4. Methods\n",
        "\n",
        "For this analysis I will create several dataframes. One for Mapleton Public Schools for years 1993-2016, as well as several similar dataframes for other Denver metro districts including Denver Public Schools and Boulder Valley School District.\n",
        "\n",
        "I will also create a Colorado 2016 rural dataframe and a Colorado 2016 nonrural dataframe."
      ]
    },
    {
      "cell_type": "code",
      "metadata": {
        "id": "rIHkHivWOhQJ",
        "colab": {
          "base_uri": "https://localhost:8080/",
          "height": 425
        },
        "outputId": "b649e017-78df-4a8c-de21-c5c3c2391319"
      },
      "source": [
        "# Creating a Colorado dataframe\n",
        "colorado = districts[(districts['STATE']=='Colorado')]\n",
        "# Adding columns for Total Revenue per Enrollment\n",
        "# and Total Expense per Enrollment\n",
        "colorado['REVPSTUD'] = colorado['TOTALREV'] / colorado['ENROLL']\n",
        "colorado['EXPPSTUD'] = colorado['TOTALEXP'] / colorado['ENROLL']\n",
        "colorado.head()"
      ],
      "execution_count": null,
      "outputs": [
        {
          "output_type": "stream",
          "text": [
            "/usr/local/lib/python3.6/dist-packages/ipykernel_launcher.py:5: SettingWithCopyWarning: \n",
            "A value is trying to be set on a copy of a slice from a DataFrame.\n",
            "Try using .loc[row_indexer,col_indexer] = value instead\n",
            "\n",
            "See the caveats in the documentation: https://pandas.pydata.org/pandas-docs/stable/user_guide/indexing.html#returning-a-view-versus-a-copy\n",
            "  \"\"\"\n",
            "/usr/local/lib/python3.6/dist-packages/ipykernel_launcher.py:6: SettingWithCopyWarning: \n",
            "A value is trying to be set on a copy of a slice from a DataFrame.\n",
            "Try using .loc[row_indexer,col_indexer] = value instead\n",
            "\n",
            "See the caveats in the documentation: https://pandas.pydata.org/pandas-docs/stable/user_guide/indexing.html#returning-a-view-versus-a-copy\n",
            "  \n"
          ],
          "name": "stderr"
        },
        {
          "output_type": "execute_result",
          "data": {
            "text/html": [
              "<div>\n",
              "<style scoped>\n",
              "    .dataframe tbody tr th:only-of-type {\n",
              "        vertical-align: middle;\n",
              "    }\n",
              "\n",
              "    .dataframe tbody tr th {\n",
              "        vertical-align: top;\n",
              "    }\n",
              "\n",
              "    .dataframe thead th {\n",
              "        text-align: right;\n",
              "    }\n",
              "</style>\n",
              "<table border=\"1\" class=\"dataframe\">\n",
              "  <thead>\n",
              "    <tr style=\"text-align: right;\">\n",
              "      <th></th>\n",
              "      <th>STATE</th>\n",
              "      <th>ENROLL</th>\n",
              "      <th>NAME</th>\n",
              "      <th>YRDATA</th>\n",
              "      <th>TOTALREV</th>\n",
              "      <th>TFEDREV</th>\n",
              "      <th>TSTREV</th>\n",
              "      <th>TLOCREV</th>\n",
              "      <th>TOTALEXP</th>\n",
              "      <th>TCURINST</th>\n",
              "      <th>TCURSSVC</th>\n",
              "      <th>TCURONON</th>\n",
              "      <th>TCAPOUT</th>\n",
              "      <th>REVPSTUD</th>\n",
              "      <th>EXPPSTUD</th>\n",
              "    </tr>\n",
              "  </thead>\n",
              "  <tbody>\n",
              "    <tr>\n",
              "      <th>1725</th>\n",
              "      <td>Colorado</td>\n",
              "      <td>7577.0</td>\n",
              "      <td>ADAMS SCHOOL DISTRICT 14</td>\n",
              "      <td>2016</td>\n",
              "      <td>92763</td>\n",
              "      <td>13676</td>\n",
              "      <td>43057</td>\n",
              "      <td>36030</td>\n",
              "      <td>80266</td>\n",
              "      <td>35628</td>\n",
              "      <td>33922</td>\n",
              "      <td>5216.0</td>\n",
              "      <td>1983</td>\n",
              "      <td>12.242708</td>\n",
              "      <td>10.593375</td>\n",
              "    </tr>\n",
              "    <tr>\n",
              "      <th>1726</th>\n",
              "      <td>Colorado</td>\n",
              "      <td>1100.0</td>\n",
              "      <td>BENNETT SCH DIST 29 J</td>\n",
              "      <td>2016</td>\n",
              "      <td>11586</td>\n",
              "      <td>219</td>\n",
              "      <td>3854</td>\n",
              "      <td>7513</td>\n",
              "      <td>9133</td>\n",
              "      <td>4586</td>\n",
              "      <td>2910</td>\n",
              "      <td>282.0</td>\n",
              "      <td>568</td>\n",
              "      <td>10.532727</td>\n",
              "      <td>8.302727</td>\n",
              "    </tr>\n",
              "    <tr>\n",
              "      <th>1727</th>\n",
              "      <td>Colorado</td>\n",
              "      <td>17069.0</td>\n",
              "      <td>BRIGHTON SCH DIST 27 J</td>\n",
              "      <td>2016</td>\n",
              "      <td>168507</td>\n",
              "      <td>7886</td>\n",
              "      <td>95124</td>\n",
              "      <td>65497</td>\n",
              "      <td>163817</td>\n",
              "      <td>79205</td>\n",
              "      <td>54778</td>\n",
              "      <td>6161.0</td>\n",
              "      <td>12391</td>\n",
              "      <td>9.872107</td>\n",
              "      <td>9.597340</td>\n",
              "    </tr>\n",
              "    <tr>\n",
              "      <th>1728</th>\n",
              "      <td>Colorado</td>\n",
              "      <td>8738.0</td>\n",
              "      <td>MAPLETON SCH DIST 1</td>\n",
              "      <td>2016</td>\n",
              "      <td>85902</td>\n",
              "      <td>5620</td>\n",
              "      <td>50224</td>\n",
              "      <td>30058</td>\n",
              "      <td>81212</td>\n",
              "      <td>45151</td>\n",
              "      <td>27074</td>\n",
              "      <td>4617.0</td>\n",
              "      <td>2499</td>\n",
              "      <td>9.830854</td>\n",
              "      <td>9.294118</td>\n",
              "    </tr>\n",
              "    <tr>\n",
              "      <th>1729</th>\n",
              "      <td>Colorado</td>\n",
              "      <td>1036.0</td>\n",
              "      <td>STRASBURG SCH DIST 31J</td>\n",
              "      <td>2016</td>\n",
              "      <td>10338</td>\n",
              "      <td>148</td>\n",
              "      <td>4643</td>\n",
              "      <td>5547</td>\n",
              "      <td>9181</td>\n",
              "      <td>5083</td>\n",
              "      <td>3207</td>\n",
              "      <td>310.0</td>\n",
              "      <td>204</td>\n",
              "      <td>9.978764</td>\n",
              "      <td>8.861969</td>\n",
              "    </tr>\n",
              "  </tbody>\n",
              "</table>\n",
              "</div>"
            ],
            "text/plain": [
              "         STATE   ENROLL  ...   REVPSTUD   EXPPSTUD\n",
              "1725  Colorado   7577.0  ...  12.242708  10.593375\n",
              "1726  Colorado   1100.0  ...  10.532727   8.302727\n",
              "1727  Colorado  17069.0  ...   9.872107   9.597340\n",
              "1728  Colorado   8738.0  ...   9.830854   9.294118\n",
              "1729  Colorado   1036.0  ...   9.978764   8.861969\n",
              "\n",
              "[5 rows x 15 columns]"
            ]
          },
          "metadata": {
            "tags": []
          },
          "execution_count": 4
        }
      ]
    },
    {
      "cell_type": "code",
      "metadata": {
        "id": "weEXtpcRPoWK"
      },
      "source": [
        "# Creating a Mapleton dataframe\n",
        "mapleton = colorado[(colorado['NAME']=='MAPLETON SCH DIST 1')]\n",
        "mapleton_clean = mapleton[(mapleton.ENROLL.notnull())]\n",
        "# Creating a Boulder dataframe\n",
        "boulder = colorado[(colorado['NAME'] == 'BOULDER VALLEY SCH DIST RE-2')]\n",
        "boulder_clean = boulder[(boulder.ENROLL.notnull())]\n",
        "# Creating a Denver dataframe\n",
        "denver = colorado[(colorado['NAME']=='DENVER SCH DIST 1')]\n",
        "denver_clean = denver[(denver['ENROLL'].notnull())]"
      ],
      "execution_count": null,
      "outputs": []
    },
    {
      "cell_type": "code",
      "metadata": {
        "id": "MN4cPFimxtlD",
        "colab": {
          "base_uri": "https://localhost:8080/",
          "height": 315
        },
        "outputId": "b482b6fe-96a5-4ede-b3a8-f3e1d2b25d5f"
      },
      "source": [
        "# Creating a histogram of Total Revenue per Enrollment\n",
        "plt.hist(mapleton_clean['REVPSTUD'], alpha = .5)\n",
        "plt.hist(boulder_clean['REVPSTUD'], alpha = .5)\n",
        "plt.hist(denver_clean['REVPSTUD'], alpha = .5)\n",
        "plt.legend(['Mapleton', 'Boulder', 'Denver'])\n",
        "plt.title('Total Revenue per Enrollment')\n",
        "plt.figure(figsize=(20, 10))\n",
        "plt.show"
      ],
      "execution_count": null,
      "outputs": [
        {
          "output_type": "execute_result",
          "data": {
            "text/plain": [
              "<function matplotlib.pyplot.show>"
            ]
          },
          "metadata": {
            "tags": []
          },
          "execution_count": 6
        },
        {
          "output_type": "display_data",
          "data": {
            "image/png": "[encoded data removed]",
            "text/plain": [
              "<Figure size 432x288 with 1 Axes>"
            ]
          },
          "metadata": {
            "tags": [],
            "needs_background": "light"
          }
        },
        {
          "output_type": "display_data",
          "data": {
            "text/plain": [
              "<Figure size 1440x720 with 0 Axes>"
            ]
          },
          "metadata": {
            "tags": []
          }
        }
      ]
    },
    {
      "cell_type": "code",
      "metadata": {
        "id": "zv5pxnixyaPz",
        "colab": {
          "base_uri": "https://localhost:8080/",
          "height": 88
        },
        "outputId": "0e3348cc-96f7-4cce-f44a-6394e6cb1319"
      },
      "source": [
        "# They do not look normal, checking skew and kurtosis.\n",
        "print('Mapleton info:'+str(stats.describe(mapleton_clean['REVPSTUD'])))\n",
        "print('Boulder info'+str(stats.describe(boulder_clean['REVPSTUD'])))\n",
        "print('Denver info'+str(stats.describe(denver_clean['REVPSTUD'])))"
      ],
      "execution_count": null,
      "outputs": [
        {
          "output_type": "stream",
          "text": [
            "Mapleton info:DescribeResult(nobs=24, minmax=(5.3221723152307066, 12.990850515463917), mean=7.653537605322597, variance=3.5999403054342904, skewness=0.7556115191101909, kurtosis=0.5730192204371045)\n",
            "Boulder infoDescribeResult(nobs=24, minmax=(5.764293128503218, 13.226837776426537), mean=9.008561531196914, variance=5.809500679162278, skewness=0.04957620883788108, kurtosis=-1.3711611734218259)\n",
            "Denver infoDescribeResult(nobs=24, minmax=(6.195143185846211, 14.095118302210894), mean=9.77352807791736, variance=7.029867730436997, skewness=-0.0016494628098824896, kurtosis=-1.4481737848574308)\n"
          ],
          "name": "stdout"
        }
      ]
    },
    {
      "cell_type": "code",
      "metadata": {
        "id": "fTHQuRWQzjkh",
        "colab": {
          "base_uri": "https://localhost:8080/",
          "height": 68
        },
        "outputId": "2337f0e8-b66c-4c4c-ecf0-b6640dbfc741"
      },
      "source": [
        "# The skew and kurtosis look okay, but the graph does not look normal\n",
        "# Checking normality using Shapiro test\n",
        "# H0 = Mapleton, Boulder, Cdenver Total Revenue per Enrollment are normally distributed\n",
        "print('Mapleton Shapiro: {}'.format(stats.shapiro(mapleton_clean['REVPSTUD'])))\n",
        "print('Boulder Shapiro: {}'.format(stats.shapiro(boulder_clean['REVPSTUD'])))\n",
        "print('Denver Shapiro: {}'.format(stats.shapiro(denver_clean['REVPSTUD'])))"
      ],
      "execution_count": null,
      "outputs": [
        {
          "output_type": "stream",
          "text": [
            "Mapleton Shapiro: (0.9168891310691833, 0.04987602308392525)\n",
            "Boulder Shapiro: (0.9172996878623962, 0.05092403292655945)\n",
            "Denver Shapiro: (0.9131414890289307, 0.04128313437104225)\n"
          ],
          "name": "stdout"
        }
      ]
    },
    {
      "cell_type": "code",
      "metadata": {
        "id": "f931g_ig0wnm",
        "colab": {
          "base_uri": "https://localhost:8080/",
          "height": 34
        },
        "outputId": "7d42d3cd-2ab8-487b-c01f-51e0c64ab1c6"
      },
      "source": [
        "# Shapiro p-values are sufficiently low to reject null\n",
        "# Total Revenue per Enrollment is not normally distributed\n",
        "# Will try a Kruskall Test\n",
        "# H0 = the mean ranks of these groups are the same\n",
        "stats.kruskal(mapleton_clean['REVPSTUD'], boulder_clean['REVPSTUD'], denver_clean['REVPSTUD'])"
      ],
      "execution_count": null,
      "outputs": [
        {
          "output_type": "execute_result",
          "data": {
            "text/plain": [
              "KruskalResult(statistic=9.217465753424648, pvalue=0.009964436481283409)"
            ]
          },
          "metadata": {
            "tags": []
          },
          "execution_count": 9
        }
      ]
    },
    {
      "cell_type": "code",
      "metadata": {
        "id": "ABCdg0HTxUy1",
        "colab": {
          "base_uri": "https://localhost:8080/",
          "height": 34
        },
        "outputId": "07d046f7-503f-44bd-fd29-abbb19087803"
      },
      "source": [
        "# Comparing Mapleton and Boulder\n",
        "stats.kruskal(mapleton_clean['REVPSTUD'], boulder_clean['REVPSTUD'])"
      ],
      "execution_count": null,
      "outputs": [
        {
          "output_type": "execute_result",
          "data": {
            "text/plain": [
              "KruskalResult(statistic=4.423469387755091, pvalue=0.035447892552460884)"
            ]
          },
          "metadata": {
            "tags": []
          },
          "execution_count": 10
        }
      ]
    },
    {
      "cell_type": "code",
      "metadata": {
        "id": "uv0DOnGtxesS",
        "colab": {
          "base_uri": "https://localhost:8080/",
          "height": 34
        },
        "outputId": "8873f64b-d432-4d3b-fc90-4e002d4d7f25"
      },
      "source": [
        "# Comparing Mapleton and Denver\n",
        "stats.kruskal(mapleton_clean['REVPSTUD'], denver_clean['REVPSTUD'])"
      ],
      "execution_count": null,
      "outputs": [
        {
          "output_type": "execute_result",
          "data": {
            "text/plain": [
              "KruskalResult(statistic=7.7487244897959044, pvalue=0.005375049092050544)"
            ]
          },
          "metadata": {
            "tags": []
          },
          "execution_count": 11
        }
      ]
    },
    {
      "cell_type": "code",
      "metadata": {
        "id": "6kFAjoyM1vx7",
        "colab": {
          "base_uri": "https://localhost:8080/",
          "height": 68
        },
        "outputId": "39a4d05e-2fe4-42d4-b0ea-1a7060d85833"
      },
      "source": [
        "# We reject the null, the mean ranks are statistically\n",
        "# significantly different. Let's check the means.\n",
        "print('Mapleton mean Total Revenue per Enrollment: {}'.format(mapleton_clean['REVPSTUD'].mean()))\n",
        "print('Boulder mean Total Revenue per Enrollment: {}'.format(boulder_clean['REVPSTUD'].mean()))\n",
        "print('Denver mean Total Revenue per Enrollment: {}'.format(denver_clean['REVPSTUD'].mean()))"
      ],
      "execution_count": null,
      "outputs": [
        {
          "output_type": "stream",
          "text": [
            "Mapleton mean Total Revenue per Enrollment: 7.653537605322598\n",
            "Boulder mean Total Revenue per Enrollment: 9.008561531196912\n",
            "Denver mean Total Revenue per Enrollment: 9.77352807791736\n"
          ],
          "name": "stdout"
        }
      ]
    },
    {
      "cell_type": "code",
      "metadata": {
        "id": "SdSG4JSqHI-4",
        "colab": {
          "base_uri": "https://localhost:8080/",
          "height": 34
        },
        "outputId": "d22ba0e6-4739-4735-86c5-ece8d0fdb815"
      },
      "source": [
        "# Confidence interval\n",
        "def get_95_ci(array_1, array_2):\n",
        "    sample_1_n = array_1.shape[0]\n",
        "    sample_2_n = array_2.shape[0]\n",
        "    sample_1_mean = array_1.mean()\n",
        "    sample_2_mean = array_2.mean()\n",
        "    sample_1_var = array_1.var()\n",
        "    sample_2_var = array_2.var()\n",
        "    mean_difference = sample_2_mean - sample_1_mean\n",
        "    std_err_difference = math.sqrt((sample_1_var/sample_1_n)+(sample_2_var/sample_2_n))\n",
        "    margin_of_error = 1.96 * std_err_difference\n",
        "    ci_lower = mean_difference - margin_of_error\n",
        "    ci_upper = mean_difference + margin_of_error\n",
        "    return(\"The difference in means at the 95% confidence interval (two-tail) is between \"+str(ci_lower)+\" and \"+str(ci_upper)+\".\")\n",
        "\n",
        "print('Mapleton & Boulder: ' + get_95_ci(mapleton_clean['REVPSTUD'], boulder_clean['REVPSTUD']))"
      ],
      "execution_count": null,
      "outputs": [
        {
          "output_type": "stream",
          "text": [
            "Mapleton & Boulder: The difference in means at the 95% confidence interval (two-tail) is between 0.12777584435163725 and 2.582272007396991.\n"
          ],
          "name": "stdout"
        }
      ]
    },
    {
      "cell_type": "code",
      "metadata": {
        "id": "po0X9Jj_HmuD",
        "colab": {
          "base_uri": "https://localhost:8080/",
          "height": 34
        },
        "outputId": "0d023a0a-816d-468e-9bee-ed229230d146"
      },
      "source": [
        "# Confidence interval\n",
        "print('Mapleton & Denver: ' + get_95_ci(mapleton_clean['REVPSTUD'], denver_clean['REVPSTUD']))"
      ],
      "execution_count": null,
      "outputs": [
        {
          "output_type": "stream",
          "text": [
            "Mapleton & Denver: The difference in means at the 95% confidence interval (two-tail) is between 0.8155833507158359 and 3.424397594473688.\n"
          ],
          "name": "stdout"
        }
      ]
    },
    {
      "cell_type": "markdown",
      "metadata": {
        "id": "2kYhWXtrIjoj"
      },
      "source": [
        "Now checking total expense per student."
      ]
    },
    {
      "cell_type": "code",
      "metadata": {
        "id": "46xoPwYgRJES",
        "colab": {
          "base_uri": "https://localhost:8080/",
          "height": 315
        },
        "outputId": "33eae7f8-8124-4b2f-98d0-1ac4020df4d5"
      },
      "source": [
        "# Creating a histogram of Total Expense per Enrollment\n",
        "plt.hist(mapleton_clean['EXPPSTUD'], alpha = .5)\n",
        "plt.hist(boulder_clean['EXPPSTUD'], alpha = .5)\n",
        "plt.hist(denver_clean['EXPPSTUD'], alpha = .5)\n",
        "plt.legend(['Mapleton', 'Boulder', 'Denver'])\n",
        "plt.title('Total Expense per Enrollment')\n",
        "plt.figure(figsize=(20, 10))\n",
        "plt.show"
      ],
      "execution_count": null,
      "outputs": [
        {
          "output_type": "execute_result",
          "data": {
            "text/plain": [
              "<function matplotlib.pyplot.show>"
            ]
          },
          "metadata": {
            "tags": []
          },
          "execution_count": 15
        },
        {
          "output_type": "display_data",
          "data": {
            "image/png": "[encoded data removed]",
            "text/plain": [
              "<Figure size 432x288 with 1 Axes>"
            ]
          },
          "metadata": {
            "tags": [],
            "needs_background": "light"
          }
        },
        {
          "output_type": "display_data",
          "data": {
            "text/plain": [
              "<Figure size 1440x720 with 0 Axes>"
            ]
          },
          "metadata": {
            "tags": []
          }
        }
      ]
    },
    {
      "cell_type": "code",
      "metadata": {
        "id": "ABeGgO6U7DnU",
        "colab": {
          "base_uri": "https://localhost:8080/",
          "height": 88
        },
        "outputId": "d6641304-ea05-4bd9-ac5a-fd552c5eaa16"
      },
      "source": [
        "# They do not look normal, checking skew and kurtosis.\n",
        "print('Mapleton info:'+str(stats.describe(mapleton_clean['EXPPSTUD'])))\n",
        "print('Boulder info'+str(stats.describe(boulder_clean['EXPPSTUD'])))\n",
        "print('Denver info'+str(stats.describe(denver_clean['EXPPSTUD'])))"
      ],
      "execution_count": null,
      "outputs": [
        {
          "output_type": "stream",
          "text": [
            "Mapleton info:DescribeResult(nobs=24, minmax=(4.7673697270471465, 14.129123711340206), mean=7.67483072616336, variance=4.483985388158162, skewness=0.9924857312874349, kurtosis=1.6783047107240012)\n",
            "Boulder infoDescribeResult(nobs=24, minmax=(5.63127994234112, 14.54978077895478), mean=9.339879950842162, variance=7.359881550729557, skewness=0.32239732751414024, kurtosis=-1.0778299671606957)\n",
            "Denver infoDescribeResult(nobs=24, minmax=(6.3231864680824605, 16.932542126948928), mean=10.538247163010029, variance=10.819095409459726, skewness=0.25868710057768346, kurtosis=-1.183218818749823)\n"
          ],
          "name": "stdout"
        }
      ]
    },
    {
      "cell_type": "code",
      "metadata": {
        "id": "8ZRuT2-DEPcD",
        "colab": {
          "base_uri": "https://localhost:8080/",
          "height": 68
        },
        "outputId": "9207d656-b781-461b-daa7-3e48af312a2a"
      },
      "source": [
        "# The skew and kurtosis look okay, but the graph does not look normal\n",
        "# Checking normality using Shapiro test\n",
        "# H0 = Mapleton, Boulder, Cdenver Total Revenue per Enrollment are normally distributed\n",
        "print('Mapleton Shapiro: {}'.format(stats.shapiro(mapleton_clean['EXPPSTUD'])))\n",
        "print('Boulder Shapiro: {}'.format(stats.shapiro(boulder_clean['EXPPSTUD'])))\n",
        "print('Denver Shapiro: {}'.format(stats.shapiro(denver_clean['EXPPSTUD'])))"
      ],
      "execution_count": null,
      "outputs": [
        {
          "output_type": "stream",
          "text": [
            "Mapleton Shapiro: (0.9016584753990173, 0.023342013359069824)\n",
            "Boulder Shapiro: (0.9361894130706787, 0.1340934783220291)\n",
            "Denver Shapiro: (0.92674320936203, 0.08245742321014404)\n"
          ],
          "name": "stdout"
        }
      ]
    },
    {
      "cell_type": "code",
      "metadata": {
        "id": "8LSQcsptEcpZ",
        "colab": {
          "base_uri": "https://localhost:8080/",
          "height": 315
        },
        "outputId": "1cc2909f-9e4c-48be-db1a-869cf2c334e4"
      },
      "source": [
        "# Boulder and Denver have too high of a p-value to reject null hypothesis\n",
        "# Checking to see what histogram of just Boulder and Denver look like\n",
        "# Creating a histogram of Total Revenue per Enrollment\n",
        "plt.hist(boulder_clean['EXPPSTUD'], alpha = .5)\n",
        "plt.hist(denver_clean['EXPPSTUD'], alpha = .5)\n",
        "plt.legend(['Boulder', 'Denver'])\n",
        "plt.title('Total Expense per Enrollment')\n",
        "plt.figure(figsize=(20, 10))\n",
        "plt.show"
      ],
      "execution_count": null,
      "outputs": [
        {
          "output_type": "execute_result",
          "data": {
            "text/plain": [
              "<function matplotlib.pyplot.show>"
            ]
          },
          "metadata": {
            "tags": []
          },
          "execution_count": 18
        },
        {
          "output_type": "display_data",
          "data": {
            "image/png": "[encoded data removed]",
            "text/plain": [
              "<Figure size 432x288 with 1 Axes>"
            ]
          },
          "metadata": {
            "tags": [],
            "needs_background": "light"
          }
        },
        {
          "output_type": "display_data",
          "data": {
            "text/plain": [
              "<Figure size 1440x720 with 0 Axes>"
            ]
          },
          "metadata": {
            "tags": []
          }
        }
      ]
    },
    {
      "cell_type": "code",
      "metadata": {
        "id": "iCkUIh-UFEtF",
        "colab": {
          "base_uri": "https://localhost:8080/",
          "height": 34
        },
        "outputId": "f596a14a-c2b9-42ad-fbcc-1763ef7e5813"
      },
      "source": [
        "# They still don't appear normal. We will run non-parametric tests\n",
        "# Trying a Kruskall-Wallis Test\n",
        "# H0 = the mean ranks of these groups are the same\n",
        "stats.kruskal(\n",
        "    mapleton_clean['EXPPSTUD'], \n",
        "    boulder_clean['EXPPSTUD'], \n",
        "    denver_clean['EXPPSTUD'])"
      ],
      "execution_count": null,
      "outputs": [
        {
          "output_type": "execute_result",
          "data": {
            "text/plain": [
              "KruskalResult(statistic=10.726598173515981, pvalue=0.004685422964652275)"
            ]
          },
          "metadata": {
            "tags": []
          },
          "execution_count": 19
        }
      ]
    },
    {
      "cell_type": "code",
      "metadata": {
        "id": "idMUM8kUxlaE",
        "colab": {
          "base_uri": "https://localhost:8080/",
          "height": 34
        },
        "outputId": "c5d11463-c16b-464c-86fd-38e9f2514c02"
      },
      "source": [
        "# Comparing Mapleton and Boulder\n",
        "stats.kruskal(\n",
        "    mapleton_clean['EXPPSTUD'], \n",
        "    boulder_clean['EXPPSTUD'])"
      ],
      "execution_count": null,
      "outputs": [
        {
          "output_type": "execute_result",
          "data": {
            "text/plain": [
              "KruskalResult(statistic=4.598639455782319, pvalue=0.03199733937639143)"
            ]
          },
          "metadata": {
            "tags": []
          },
          "execution_count": 20
        }
      ]
    },
    {
      "cell_type": "code",
      "metadata": {
        "id": "l_5iiGgbxq7e",
        "colab": {
          "base_uri": "https://localhost:8080/",
          "height": 34
        },
        "outputId": "4079cc08-02d6-4c02-a16b-90737fcf83e9"
      },
      "source": [
        "# Comparing Mapleton and Denver\n",
        "stats.kruskal(\n",
        "    mapleton_clean['EXPPSTUD'], \n",
        "    denver_clean['EXPPSTUD'])"
      ],
      "execution_count": null,
      "outputs": [
        {
          "output_type": "execute_result",
          "data": {
            "text/plain": [
              "KruskalResult(statistic=9.439200680272108, pvalue=0.002123960431569426)"
            ]
          },
          "metadata": {
            "tags": []
          },
          "execution_count": 21
        }
      ]
    },
    {
      "cell_type": "code",
      "metadata": {
        "id": "HeiupprLGLKf",
        "colab": {
          "base_uri": "https://localhost:8080/",
          "height": 68
        },
        "outputId": "34fd0e08-3a04-4c81-dec2-a710e7fdaa23"
      },
      "source": [
        "# The p-value is sufficiently small to reject the null\n",
        "# The mean ranks are statistically significantly different\n",
        "# Let's check the means.\n",
        "print('Mapleton mean Total Expense per Enrollment: {}'.format(mapleton_clean['EXPPSTUD'].mean()))\n",
        "print('Boulder mean Total Expense per Enrollment: {}'.format(boulder_clean['EXPPSTUD'].mean()))\n",
        "print('Denver mean Total Expense per Enrollment: {}'.format(denver_clean['EXPPSTUD'].mean()))"
      ],
      "execution_count": null,
      "outputs": [
        {
          "output_type": "stream",
          "text": [
            "Mapleton mean Total Expense per Enrollment: 7.67483072616336\n",
            "Boulder mean Total Expense per Enrollment: 9.33987995084216\n",
            "Denver mean Total Expense per Enrollment: 10.538247163010029\n"
          ],
          "name": "stdout"
        }
      ]
    },
    {
      "cell_type": "code",
      "metadata": {
        "id": "kMeSmlx6IEMc",
        "colab": {
          "base_uri": "https://localhost:8080/",
          "height": 34
        },
        "outputId": "b5063137-2e83-407c-bc99-43b25a991a12"
      },
      "source": [
        "# Confidence interval\n",
        "print('Mapleton & Boulder: ' + get_95_ci(mapleton_clean['EXPPSTUD'], boulder_clean['EXPPSTUD']))"
      ],
      "execution_count": null,
      "outputs": [
        {
          "output_type": "stream",
          "text": [
            "Mapleton & Boulder: The difference in means at the 95% confidence interval (two-tail) is between 0.2881656779141173 and 3.0419327714434843.\n"
          ],
          "name": "stdout"
        }
      ]
    },
    {
      "cell_type": "code",
      "metadata": {
        "id": "VtxyYUhBILro",
        "colab": {
          "base_uri": "https://localhost:8080/",
          "height": 34
        },
        "outputId": "5dbb1897-1cf4-40c5-a3e7-7b6c55f58e0e"
      },
      "source": [
        "# Confidence interval\n",
        "print('Mapleton & Denver: ' + get_95_ci(mapleton_clean['EXPPSTUD'], denver_clean['EXPPSTUD']))"
      ],
      "execution_count": null,
      "outputs": [
        {
          "output_type": "stream",
          "text": [
            "Mapleton & Denver: The difference in means at the 95% confidence interval (two-tail) is between 1.2983243842806322 and 4.428508489412706.\n"
          ],
          "name": "stdout"
        }
      ]
    },
    {
      "cell_type": "markdown",
      "metadata": {
        "id": "GRS9Ri1JGvzS"
      },
      "source": [
        "##Now comparing Rural and Non-Rural Districts."
      ]
    },
    {
      "cell_type": "code",
      "metadata": {
        "id": "Xsk_r5bIGqbD",
        "colab": {
          "base_uri": "https://localhost:8080/",
          "height": 51
        },
        "outputId": "1d203f01-7138-44a7-cac3-652edc71c68d"
      },
      "source": [
        "# Creating a Colorado 2016 Rural and Non-Rural dataframe\n",
        "co_sixteen = colorado[(colorado['YRDATA']==2016)]\n",
        "co_sixteen_rural = co_sixteen[(co_sixteen['ENROLL']>36) & (co_sixteen['ENROLL']<5852)]\n",
        "co_sixteen_nonrural = co_sixteen[(co_sixteen['ENROLL']>=5852)]\n",
        "print('Colorado 2016 Rural districts contain {} districts.'.format(co_sixteen_rural.shape[0]))\n",
        "print('Colorado 2016 Non-Rural districts contain {} districts.'.format(co_sixteen_nonrural.shape[0]))"
      ],
      "execution_count": null,
      "outputs": [
        {
          "output_type": "stream",
          "text": [
            "Colorado 2016 Rural districts contain 149 districts.\n",
            "Colorado 2016 Non-Rural districts contain 28 districts.\n"
          ],
          "name": "stdout"
        }
      ]
    },
    {
      "cell_type": "code",
      "metadata": {
        "id": "lzDas0NhJHVU",
        "colab": {
          "base_uri": "https://localhost:8080/",
          "height": 553
        },
        "outputId": "efced216-e098-42ac-eaf7-594471274f98"
      },
      "source": [
        "plt.figure(figsize=[12,8])\n",
        "plt.hist(co_sixteen_nonrural['REVPSTUD'], alpha = .5)\n",
        "plt.hist(co_sixteen_rural['REVPSTUD'], alpha = .5)\n",
        "plt.legend(['Non-Rural', 'Rural'])\n",
        "plt.title('Total Revenue per Enrollment')\n",
        "plt.show\n",
        "print('Non-Rural: '+ str(stats.describe(co_sixteen_nonrural['REVPSTUD'])))\n",
        "print('Rural: ' + str(stats.describe(co_sixteen_rural['REVPSTUD'])))"
      ],
      "execution_count": null,
      "outputs": [
        {
          "output_type": "stream",
          "text": [
            "Non-Rural: DescribeResult(nobs=28, minmax=(9.006571277159512, 14.095118302210894), mean=10.813903593735521, variance=1.6605376602352093, skewness=0.777369550245631, kurtosis=0.07278278063802324)\n",
            "Rural: DescribeResult(nobs=149, minmax=(7.235584843492586, 162.08163265306123), mean=16.00749673073122, variance=183.4570257287457, skewness=8.736330746045542, kurtosis=89.6629653271222)\n"
          ],
          "name": "stdout"
        },
        {
          "output_type": "display_data",
          "data": {
            "image/png": "[encoded data removed]",
            "text/plain": [
              "<Figure size 864x576 with 1 Axes>"
            ]
          },
          "metadata": {
            "tags": [],
            "needs_background": "light"
          }
        }
      ]
    },
    {
      "cell_type": "code",
      "metadata": {
        "id": "qJ_8k-2ZKX-o",
        "colab": {
          "base_uri": "https://localhost:8080/",
          "height": 516
        },
        "outputId": "adf7db16-f8e9-4691-f3bf-536ef0d19076"
      },
      "source": [
        "# Non-rural has a skew and kurtosis in acceptable range for normality\n",
        "# Rural is not in acceptable range\n",
        "# It might be good to plot them separately to see what's going on\n",
        "plt.figure(figsize=[12,8])\n",
        "plt.hist(co_sixteen_nonrural['REVPSTUD'], alpha = .5)\n",
        "plt.title('Non-Rural Total Expenses per Enrollment 2016')"
      ],
      "execution_count": null,
      "outputs": [
        {
          "output_type": "execute_result",
          "data": {
            "text/plain": [
              "Text(0.5, 1.0, 'Non-Rural Total Expenses per Enrollment 2016')"
            ]
          },
          "metadata": {
            "tags": []
          },
          "execution_count": 43
        },
        {
          "output_type": "display_data",
          "data": {
            "image/png": "[encoded data removed]",
            "text/plain": [
              "<Figure size 864x576 with 1 Axes>"
            ]
          },
          "metadata": {
            "tags": [],
            "needs_background": "light"
          }
        }
      ]
    },
    {
      "cell_type": "code",
      "metadata": {
        "id": "mqrvgCL9KqD1",
        "colab": {
          "base_uri": "https://localhost:8080/",
          "height": 298
        },
        "outputId": "561a194f-e2bb-49ad-d616-0777feb6923a"
      },
      "source": [
        "# That does not look normal\n",
        "# Let's check out Rural\n",
        "plt.hist(co_sixteen_rural['REVPSTUD'], alpha = .5)\n",
        "plt.title('Rural Total Expense per Enrollment 2016')"
      ],
      "execution_count": null,
      "outputs": [
        {
          "output_type": "execute_result",
          "data": {
            "text/plain": [
              "Text(0.5, 1.0, 'Rural Total Expense per Enrollment 2016')"
            ]
          },
          "metadata": {
            "tags": []
          },
          "execution_count": 28
        },
        {
          "output_type": "display_data",
          "data": {
            "image/png": "[encoded data removed]",
            "text/plain": [
              "<Figure size 432x288 with 1 Axes>"
            ]
          },
          "metadata": {
            "tags": [],
            "needs_background": "light"
          }
        }
      ]
    },
    {
      "cell_type": "code",
      "metadata": {
        "id": "epdM1FOcKsr7",
        "colab": {
          "base_uri": "https://localhost:8080/",
          "height": 318
        },
        "outputId": "6397afb9-590c-4cee-8812-497c5ccb3f67"
      },
      "source": [
        "# It seems like there are some outliers\n",
        "# let's see what happens if we remove them\n",
        "co_sixteen_rural_clean = co_sixteen_rural[(co_sixteen_rural['REVPSTUD']<30)]\n",
        "plt.hist(co_sixteen_rural_clean['REVPSTUD'])\n",
        "plt.title('Rural Total Revenue per Enrollment 2016')\n",
        "print('Rural: '+str(stats.describe(co_sixteen_rural_clean['REVPSTUD'])))"
      ],
      "execution_count": null,
      "outputs": [
        {
          "output_type": "stream",
          "text": [
            "Rural: DescribeResult(nobs=144, minmax=(7.235584843492586, 28.945945945945947), mean=14.313736170359713, variance=18.675957891845147, skewness=1.1337689725727125, kurtosis=1.14944686034882)\n"
          ],
          "name": "stdout"
        },
        {
          "output_type": "display_data",
          "data": {
            "image/png": "[encoded data removed]",
            "text/plain": [
              "<Figure size 432x288 with 1 Axes>"
            ]
          },
          "metadata": {
            "tags": [],
            "needs_background": "light"
          }
        }
      ]
    },
    {
      "cell_type": "code",
      "metadata": {
        "id": "BYHzZmAHDqu9",
        "colab": {
          "base_uri": "https://localhost:8080/",
          "height": 298
        },
        "outputId": "a2ca0d52-2502-4f9e-d4b6-82b115d7d1b3"
      },
      "source": [
        "plt.hist(co_sixteen_nonrural['REVPSTUD'], alpha = .5)\n",
        "plt.hist(co_sixteen_rural_clean['REVPSTUD'], alpha = .5)\n",
        "plt.legend(['Non-Rural', 'Rural'])\n",
        "plt.title('Total Revenue per Enrollment 2016')\n",
        "plt.show"
      ],
      "execution_count": null,
      "outputs": [
        {
          "output_type": "execute_result",
          "data": {
            "text/plain": [
              "<function matplotlib.pyplot.show>"
            ]
          },
          "metadata": {
            "tags": []
          },
          "execution_count": 30
        },
        {
          "output_type": "display_data",
          "data": {
            "image/png": "[encoded data removed]",
            "text/plain": [
              "<Figure size 432x288 with 1 Axes>"
            ]
          },
          "metadata": {
            "tags": [],
            "needs_background": "light"
          }
        }
      ]
    },
    {
      "cell_type": "code",
      "metadata": {
        "id": "gFG6kCgmkK-s",
        "colab": {
          "base_uri": "https://localhost:8080/",
          "height": 34
        },
        "outputId": "0687d1bc-ad57-4466-c22c-6f499332b0d9"
      },
      "source": [
        "# This gets our skew and kurtosis to acceptable levels\n",
        "# Let's see how many data points we eliminated\n",
        "print('This eliminated {} datapoints.'.format(co_sixteen_rural.shape[0]-co_sixteen_rural_clean.shape[0]))"
      ],
      "execution_count": null,
      "outputs": [
        {
          "output_type": "stream",
          "text": [
            "This eliminated 5 datapoints.\n"
          ],
          "name": "stdout"
        }
      ]
    },
    {
      "cell_type": "code",
      "metadata": {
        "id": "o4cx7jvtkVUt",
        "colab": {
          "base_uri": "https://localhost:8080/",
          "height": 51
        },
        "outputId": "c7c33b26-c5a5-4bbc-eaec-22a2cac9e5c1"
      },
      "source": [
        "# Cleaning the data only took out 5 data points,\n",
        "# which leaves 144 datapoints, which should be enough.\n",
        "# Let's check how normal this data is with a Shapiro test.\n",
        "# H0 = Non-Rural, Rural Total Revenue per Enrollment are normally distributed\n",
        "print('Non-Rural Shapiro: {}'.format(stats.shapiro(co_sixteen_nonrural['REVPSTUD'])))\n",
        "print('Rural Shapiro: {}'.format(stats.shapiro(co_sixteen_rural_clean['REVPSTUD'])))"
      ],
      "execution_count": null,
      "outputs": [
        {
          "output_type": "stream",
          "text": [
            "Non-Rural Shapiro: (0.9422252774238586, 0.12592163681983948)\n",
            "Rural Shapiro: (0.9143113493919373, 1.5022943955500523e-07)\n"
          ],
          "name": "stdout"
        }
      ]
    },
    {
      "cell_type": "code",
      "metadata": {
        "id": "u5KBkTJQmbQE",
        "colab": {
          "base_uri": "https://localhost:8080/",
          "height": 34
        },
        "outputId": "8e97dc1d-b99f-4e87-b669-86d76d617b68"
      },
      "source": [
        "# Even after getting rid of outliers, Rural has a p-value\n",
        "# that is sufficiently low to reject the null.\n",
        "# Rural is not normally distributed.\n",
        "# Non-Rural we cannot reject the null.\n",
        "# It is better to run non-parametric test.\n",
        "# I will use Kruskall-Wallis test.\n",
        "# H0 = the mean ranks of these groups are the same\n",
        "stats.kruskal(co_sixteen_nonrural['REVPSTUD'], co_sixteen_rural_clean['REVPSTUD'])"
      ],
      "execution_count": null,
      "outputs": [
        {
          "output_type": "execute_result",
          "data": {
            "text/plain": [
              "KruskalResult(statistic=23.14891274428851, pvalue=1.4992795266673953e-06)"
            ]
          },
          "metadata": {
            "tags": []
          },
          "execution_count": 33
        }
      ]
    },
    {
      "cell_type": "code",
      "metadata": {
        "id": "gRssfcWbnL-z",
        "colab": {
          "base_uri": "https://localhost:8080/",
          "height": 51
        },
        "outputId": "f3e61147-77d9-4c54-a948-744ad20f580d"
      },
      "source": [
        "# The p-value is sufficiently small to reject the null\n",
        "# These groups have statistically significantly different mean ranks\n",
        "print('The Non-Rural districts have a mean Total Revenue per Enrollment of {}'.format(co_sixteen_nonrural['REVPSTUD'].mean()))\n",
        "print('The Rural districts have a mean Total Revenue per Enrollment of {}'.format(co_sixteen_rural_clean['REVPSTUD'].mean()))"
      ],
      "execution_count": null,
      "outputs": [
        {
          "output_type": "stream",
          "text": [
            "The Non-Rural districts have a mean Total Revenue per Enrollment of 10.813903593735521\n",
            "The Rural districts have a mean Total Revenue per Enrollment of 14.31373617035971\n"
          ],
          "name": "stdout"
        }
      ]
    },
    {
      "cell_type": "code",
      "metadata": {
        "id": "KlYxtNZVqEVe",
        "colab": {
          "base_uri": "https://localhost:8080/",
          "height": 54
        },
        "outputId": "e9f76f4b-2124-4116-8166-903964ed3cd8"
      },
      "source": [
        "# The p-value is sufficiently small to reject the null\n",
        "# the mean rank of these two groups is statistically significantly different\n",
        "# Confidence interval:\n",
        "print('Rural & Non-Rural Total Rev per Enrollment: ' + get_95_ci(co_sixteen_nonrural['REVPSTUD'], co_sixteen_rural_clean['REVPSTUD']))"
      ],
      "execution_count": null,
      "outputs": [
        {
          "output_type": "stream",
          "text": [
            "Rural & Non-Rural Total Rev per Enrollment: The difference in means at the 95% confidence interval (two-tail) is between 2.647741723833215 and 4.351923429415164.\n"
          ],
          "name": "stdout"
        }
      ]
    },
    {
      "cell_type": "code",
      "metadata": {
        "id": "n-8G2gtrn05f",
        "colab": {
          "base_uri": "https://localhost:8080/",
          "height": 352
        },
        "outputId": "5202a35c-cc25-431f-cc9c-fb2744ac357b"
      },
      "source": [
        "# Surprisingly, the Rural districts have a higher mean Total Revenue per Enrollment\n",
        "# How do their expenses compare?\n",
        "plt.hist(co_sixteen_nonrural['EXPPSTUD'], alpha = .5)\n",
        "plt.hist(co_sixteen_rural['EXPPSTUD'], alpha = .5)\n",
        "plt.legend(['Non-Rural', 'Rural'])\n",
        "plt.title('Total Expense per Enrollment')\n",
        "plt.figure(figsize=[8,12])\n",
        "plt.show\n",
        "print('Non-Rural: '+ str(stats.describe(co_sixteen_nonrural['EXPPSTUD'])))\n",
        "print('Rural: ' + str(stats.describe(co_sixteen_rural['EXPPSTUD'])))"
      ],
      "execution_count": null,
      "outputs": [
        {
          "output_type": "stream",
          "text": [
            "Non-Rural: DescribeResult(nobs=28, minmax=(7.826905306162152, 14.806460907630077), mean=10.423483108705978, variance=2.7568673810249886, skewness=1.0847576352060189, kurtosis=1.1199566275338109)\n",
            "Rural: DescribeResult(nobs=149, minmax=(6.892241379310345, 155.42857142857142), mean=15.3474363272364, variance=186.98200277137082, skewness=7.765854586544721, kurtosis=73.36148395605909)\n"
          ],
          "name": "stdout"
        },
        {
          "output_type": "display_data",
          "data": {
            "image/png": "[encoded data removed]",
            "text/plain": [
              "<Figure size 432x288 with 1 Axes>"
            ]
          },
          "metadata": {
            "tags": [],
            "needs_background": "light"
          }
        },
        {
          "output_type": "display_data",
          "data": {
            "text/plain": [
              "<Figure size 576x864 with 0 Axes>"
            ]
          },
          "metadata": {
            "tags": []
          }
        }
      ]
    },
    {
      "cell_type": "code",
      "metadata": {
        "id": "OTALIYXLoG6I",
        "colab": {
          "base_uri": "https://localhost:8080/",
          "height": 352
        },
        "outputId": "014ee4d1-3a6a-4d5b-86a1-97e0219ed3ac"
      },
      "source": [
        "# Similar problem as Revenue, what if we use the same dataset\n",
        "# without outliers as before?\n",
        "co_sixteen_rural_clean_exp = co_sixteen_rural[(co_sixteen_rural['EXPPSTUD']<30)]\n",
        "plt.hist(co_sixteen_nonrural['EXPPSTUD'], alpha = .5)\n",
        "plt.hist(co_sixteen_rural_clean_exp['EXPPSTUD'], alpha = .5)\n",
        "plt.legend(['Non-Rural', 'Rural'])\n",
        "plt.title('Total Expense per Enrollment')\n",
        "plt.figure(figsize=[8,12])\n",
        "plt.show\n",
        "print('Non-Rural: '+ str(stats.describe(co_sixteen_nonrural['EXPPSTUD'])))\n",
        "print('Rural: ' + str(stats.describe(co_sixteen_rural_clean_exp['EXPPSTUD'])))"
      ],
      "execution_count": null,
      "outputs": [
        {
          "output_type": "stream",
          "text": [
            "Non-Rural: DescribeResult(nobs=28, minmax=(7.826905306162152, 14.806460907630077), mean=10.423483108705978, variance=2.7568673810249886, skewness=1.0847576352060189, kurtosis=1.1199566275338109)\n",
            "Rural: DescribeResult(nobs=142, minmax=(6.892241379310345, 29.675675675675677), mean=13.191461198227648, variance=15.386664726744387, skewness=1.1615234026358323, kurtosis=1.5561510783114851)\n"
          ],
          "name": "stdout"
        },
        {
          "output_type": "display_data",
          "data": {
            "image/png": "[encoded data removed]",
            "text/plain": [
              "<Figure size 432x288 with 1 Axes>"
            ]
          },
          "metadata": {
            "tags": [],
            "needs_background": "light"
          }
        },
        {
          "output_type": "display_data",
          "data": {
            "text/plain": [
              "<Figure size 576x864 with 0 Axes>"
            ]
          },
          "metadata": {
            "tags": []
          }
        }
      ]
    },
    {
      "cell_type": "code",
      "metadata": {
        "id": "RQLSroVMoUY-",
        "colab": {
          "base_uri": "https://localhost:8080/",
          "height": 51
        },
        "outputId": "aebf3ac9-fcaf-44d4-8f2a-6cc6fdcbfcfe"
      },
      "source": [
        "# Both have an acceptable skew and kurtosis for normality\n",
        "# Using the Shapiro test to confirm normality\n",
        "# H0 = Non-Rural, Rural Total Expense per Enrollment are normally distributed\n",
        "print('Non-Rural Shapiro: {}'.format(stats.shapiro(co_sixteen_nonrural['EXPPSTUD'])))\n",
        "print('Rural Shapiro: {}'.format(stats.shapiro(co_sixteen_rural_clean_exp['EXPPSTUD'])))"
      ],
      "execution_count": null,
      "outputs": [
        {
          "output_type": "stream",
          "text": [
            "Non-Rural Shapiro: (0.9071556925773621, 0.01689593866467476)\n",
            "Rural Shapiro: (0.9167702198028564, 2.4968147727122414e-07)\n"
          ],
          "name": "stdout"
        }
      ]
    },
    {
      "cell_type": "code",
      "metadata": {
        "id": "QclrTbQqpJTc",
        "colab": {
          "base_uri": "https://localhost:8080/",
          "height": 34
        },
        "outputId": "0621bcb3-21ae-4ed2-9702-f9530de4b450"
      },
      "source": [
        "# p-value is sufficiently small to reject the null\n",
        "# Both groups are not normally distributed\n",
        "# Using Kruskal-Wallis test\n",
        "# H0 = the mean rank of these two groups is the same\n",
        "stats.kruskal(co_sixteen_nonrural['REVPSTUD'], co_sixteen_rural_clean_exp['REVPSTUD'])"
      ],
      "execution_count": null,
      "outputs": [
        {
          "output_type": "execute_result",
          "data": {
            "text/plain": [
              "KruskalResult(statistic=22.61682374951465, pvalue=1.977454245397159e-06)"
            ]
          },
          "metadata": {
            "tags": []
          },
          "execution_count": 39
        }
      ]
    },
    {
      "cell_type": "code",
      "metadata": {
        "id": "rmUfe77UpnHT",
        "colab": {
          "base_uri": "https://localhost:8080/",
          "height": 54
        },
        "outputId": "48eedcf1-580b-49e0-b8c0-9b375823fd8b"
      },
      "source": [
        "# The p-value is sufficiently small to reject the null\n",
        "# the mean rank of these two groups is statistically significantly different\n",
        "# Confidence interval:\n",
        "print('Rural & Non-Rural Total Exp per Enrollment: ' + get_95_ci(co_sixteen_nonrural['EXPPSTUD'], co_sixteen_rural_clean_exp['EXPPSTUD']))"
      ],
      "execution_count": null,
      "outputs": [
        {
          "output_type": "stream",
          "text": [
            "Rural & Non-Rural Total Exp per Enrollment: The difference in means at the 95% confidence interval (two-tail) is between 1.8766276175231433 and 3.6593285615201885.\n"
          ],
          "name": "stdout"
        }
      ]
    },
    {
      "cell_type": "code",
      "metadata": {
        "id": "0heMGfk_p763",
        "colab": {
          "base_uri": "https://localhost:8080/",
          "height": 51
        },
        "outputId": "41c95210-1461-4593-8d7f-d8e47551e8a4"
      },
      "source": [
        "# But which one is higher?\n",
        "print('The Non-Rural districts have a mean Total Exp per Enrollment of {}'.format(co_sixteen_nonrural['EXPPSTUD'].mean()))\n",
        "print('The Rural districts have a mean Total Exp per Enrollment of {}'.format(co_sixteen_rural_clean_exp['EXPPSTUD'].mean()))"
      ],
      "execution_count": null,
      "outputs": [
        {
          "output_type": "stream",
          "text": [
            "The Non-Rural districts have a mean Total Exp per Enrollment of 10.42348310870598\n",
            "The Rural districts have a mean Total Exp per Enrollment of 13.191461198227646\n"
          ],
          "name": "stdout"
        }
      ]
    },
    {
      "cell_type": "markdown",
      "metadata": {
        "id": "dhvC9FcOqoiI"
      },
      "source": [
        "#5. Results\n",
        "\n",
        "##Client: Mapleton Public Schools\n",
        "\n",
        "###Total Revenue per Enrollment\n",
        "\n",
        "Total revenue per enrollment was not normally distributed for any of the three districts tested. Based on the Kruskall-Wallis test having a sufficently low p-value, I reject the null that the mean ranks of total revenue per enrollment was not statistically significantly different for the three districts. I then ran Kruskall-Wallis tests to individually compare Denver and Boulder to Mapleton and found that individually they have mean ranks significantly different from Mapleton.\n",
        "\n",
        "The 95% confidence interval suggests that the difference in mean total revenue per enrollment between Mapleton and Boulder is between 0.1277 and 2.5823. \n",
        "\n",
        "The 95% confidence interval suggests that the difference in mean total revenue per enrollment between Mapleton and Denver is between 0.8156 and 3.4244. \n",
        "\n",
        "In both cases Mapleton has a lower mean total revenue per enrollment.\n",
        "\n",
        "###Total Expense per Enrollment\n",
        "\n",
        "Total expense per enrollment was not normally distrubted for any of the the three districts, either. Based on the Kruskall-Wallis test having a sufficently low p-value, I reject the null that the mean ranks of total expense per enrollment was not statistically significantly different for the three districts. I then ran Kruskall-Wallis tests to individually compare Denver and Boulder to Mapleton and found that individually they have mean ranks significantly different from Mapleton.\n",
        "\n",
        "The 95% confidence interval suggests that the difference in mean total expense per enrollment between Mapleton and Boulder is between 0.2882 and 3.0419. \n",
        "\n",
        "The 95% confidence interval suggests that the difference in mean total revenue per enrollment between Mapleton and Denver is between 1.2983 and 4.4285.\n",
        "\n",
        "In both cases, Mapleton has a lower mean total expense per enrollment.\n",
        "\n",
        "##Client: Colorado Department of Education\n",
        "\n",
        "###Total Revenue per Enrollment\n",
        "\n",
        "By looking at the histograms, it was clear that there were some very high values for total revenue per enrollment for some rural districts. Because there were many more datapoints in the rural dataset, I decided to exclude the values that were much higher, limiting the total revenue per enrollment to 30. That showed more promising skew and kurtosis for being normally distributed. However, the Shapiro test showed a sufficiently low p-value, so I rejected the null that it was normally distruted. Surprisingly, the non-rural dataset did not show a sufficiently low p-value on the Shapiro test to reject the null that it was normally distributed. However, with one dataset showing non-normality and one showing signs of normality, I decided to proceed with a non-parametric test and used the Kruskal-Wallis test.\n",
        "\n",
        "The Kruskall-Wallis showed a sufficiently low p-value to reject the null that the mean ranks are not significantly different. The 95% confidence interval suggests that the difference in total revenue per enrollment is between 2.4645 and 4.1261.\n",
        "\n",
        "Rural districts had a higher mean total revenue per enrollment in 2016.\n",
        "\n",
        "###Total Expense per Enrollment\n",
        "\n",
        "Similarly to total revenue per enrollment, I decided to eliminate some higher values that were skewing the mean. Still, both datasets showed sufficiently low p-values on the Shapiro test to reject the null that they are normally distributed. When I ran the Kruskall-Wallis test, the p-value was sufficiently low to reject the null that the mean ranks are not significantly different.\n",
        "\n",
        "The 95% confidence interval suggests that the difference in total expense per enrollment is between 1.6879 and 3.4303."
      ]
    },
    {
      "cell_type": "markdown",
      "metadata": {
        "id": "-ySFD8tYuWoQ"
      },
      "source": [
        "#6. Discussion and Recommendation\n",
        "\n",
        "##Client: Mapleton Public Schools\n",
        "\n",
        "This analysis has determined that Mapleton lags behind some of its neighbors in total revenue per enrollment and total expense per enrollment. As a next step in the process, let's compare more districts in the Denver Metro area. To understand where the difference lies, I would also look into percent of funding from federal, state, and local agencies to see where a discrepency might lie. Are other Adams County districts similarly low compared to Denver and Boulder? Are Adams county districts generally lower in local funding than other Denver Metro districts?\n",
        "\n",
        "##Client: Colorado Department of Education\n",
        "\n",
        "Total revenue per enrollment and total expense per enrollment are shown to be higher in rural districts than non-rural districts. As a next step in this process, let's look at where that discrepency in funding is coming from by comparing percent of funding from federal, state, and local agencies. Who is having to make up the difference for rural schools being more expensive?"
      ]
    }
  ]
}